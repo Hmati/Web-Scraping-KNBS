{
 "cells": [
  {
   "cell_type": "code",
   "execution_count": null,
   "id": "a7fbba4c-5f62-4f40-b7a9-c2360f845e31",
   "metadata": {},
   "outputs": [],
   "source": [
    "import requests\n",
    "from bs4 import BeautifulSoup\n",
    "import pandas as pd\n",
    "\n",
    "# Define the URL of the data page\n",
    "url = \"https://www.opendata.go.ke/\"\n",
    "\n",
    "# Send an HTTP request to fetch the content of the page\n",
    "response = requests.get(url)\n",
    "\n",
    "# Check if the request was successful\n",
    "if response.status_code == 200:\n",
    "    soup = BeautifulSoup(response.content, \"html.parser\")\n",
    "    \n",
    "    # Assume the data is in tables, find the first table\n",
    "    table = soup.find('table')  # Modify this to target specific tables\n",
    "    \n",
    "    # Extract column headers\n",
    "    headers = [header.text.strip() for header in table.find_all('th')]\n",
    "    \n",
    "    # Extract rows of data\n",
    "    rows = []\n",
    "    for row in table.find_all('tr')[1:]:  # Skip header row\n",
    "        columns = row.find_all('td')\n",
    "        row_data = [column.text.strip() for column in columns]\n",
    "        rows.append(row_data)\n",
    "    \n",
    "    # Create a DataFrame\n",
    "    df = pd.DataFrame(rows, columns=headers)\n",
    "    df.to_csv('kenya_open_data.csv', index=False)\n",
    "    print(\"Data saved to kenya_open_data.csv\")\n",
    "    \n",
    "else:\n",
    "    print(f\"Failed to fetch data. Status code: {response.status_code}\")\n"
   ]
  }
 ],
 "metadata": {
  "kernelspec": {
   "display_name": "",
   "name": ""
  },
  "language_info": {
   "name": ""
  }
 },
 "nbformat": 4,
 "nbformat_minor": 5
}

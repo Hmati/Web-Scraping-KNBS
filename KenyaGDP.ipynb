{
 "cells": [
  {
   "cell_type": "code",
   "execution_count": 1,
   "id": "6ac059e5-1307-4ee8-8c17-4ad0e0929366",
   "metadata": {},
   "outputs": [
    {
     "name": "stdout",
     "output_type": "stream",
     "text": [
      "Empty DataFrame\n",
      "Columns: []\n",
      "Index: []\n"
     ]
    }
   ],
   "source": [
    "import requests\n",
    "from bs4 import BeautifulSoup\n",
    "import pandas as pd\n",
    "\n",
    "# URL of the Wikipedia page containing GDP data\n",
    "url = 'https://en.wikipedia.org/wiki/List_of_countries_by_GDP_(nominal)'\n",
    "\n",
    "# Send a GET request to the website\n",
    "response = requests.get(url)\n",
    "soup = BeautifulSoup(response.text, 'html.parser')\n",
    "\n",
    "# Find the table with the GDP data (by class name 'wikitable')\n",
    "table = soup.find('table', class_='wikitable')\n",
    "\n",
    "# Extract the rows of the table\n",
    "rows = table.find_all('tr')\n",
    "\n",
    "# Initialize a list to store the GDP data\n",
    "gdp_data = []\n",
    "\n",
    "# Loop through the rows and extract the data\n",
    "for row in rows[1:]:  # Skipping the header row\n",
    "    cells = row.find_all('td')\n",
    "    \n",
    "    if len(cells) > 1:  # Ensure it's a valid row\n",
    "        country = cells[1].text.strip()\n",
    "        gdp = cells[2].text.strip()\n",
    "        \n",
    "        # Check if the country is Kenya\n",
    "        if \"Kenya\" in country:\n",
    "            gdp_data.append({'Country': country, 'GDP (Nominal)': gdp})\n",
    "\n",
    "# Convert the data into a DataFrame\n",
    "df = pd.DataFrame(gdp_data)\n",
    "\n",
    "# Save the data to a CSV file\n",
    "df.to_csv('kenya_gdp_data.csv', index=False)\n",
    "\n",
    "# Display the DataFrame\n",
    "print(df.head())\n"
   ]
  },
  {
   "cell_type": "code",
   "execution_count": null,
   "id": "88e73b3a-74bc-4a21-aca3-e6aad6e28ab5",
   "metadata": {},
   "outputs": [],
   "source": []
  }
 ],
 "metadata": {
  "kernelspec": {
   "display_name": "Python 3 (ipykernel)",
   "language": "python",
   "name": "python3"
  },
  "language_info": {
   "codemirror_mode": {
    "name": "ipython",
    "version": 3
   },
   "file_extension": ".py",
   "mimetype": "text/x-python",
   "name": "python",
   "nbconvert_exporter": "python",
   "pygments_lexer": "ipython3",
   "version": "3.12.7"
  }
 },
 "nbformat": 4,
 "nbformat_minor": 5
}
